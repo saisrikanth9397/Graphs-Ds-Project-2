{
  "nbformat": 4,
  "nbformat_minor": 0,
  "metadata": {
    "colab": {
      "name": "Untitled0.ipynb",
      "provenance": [],
      "collapsed_sections": []
    },
    "kernelspec": {
      "name": "python3",
      "display_name": "Python 3"
    },
    "language_info": {
      "name": "python"
    }
  },
  "cells": [
    {
      "cell_type": "code",
      "metadata": {
        "id": "Sayea8vsB9Q8"
      },
      "source": [
        "import networkx as nx\n",
        "import pandas as pd\n",
        "import os"
      ],
      "execution_count": 2,
      "outputs": []
    },
    {
      "cell_type": "code",
      "metadata": {
        "id": "Y65LQifFJ2CH"
      },
      "source": [
        "data = '/content/drive/MyDrive/Ds Data'\n",
        "firstFile = '/content/drive/MyDrive/Ds Data/tx_transfers_10-11-2020_etherum_tx_csv-000000000025.csv'"
      ],
      "execution_count": 3,
      "outputs": []
    },
    {
      "cell_type": "code",
      "metadata": {
        "id": "eio_o97yJrik"
      },
      "source": [
        "firstFileDF = pd.read_csv(firstFile, usecols= ['from_addr','to_addr'])\n",
        "for file in os.listdir(data):\n",
        "  with open(os.path.join(data, file)) as f:\n",
        "    #print(f.name)\n",
        "    if f.name != firstFile:\n",
        "      #print('sfs')\n",
        "      graph1 = pd.read_csv(f, usecols= ['from_addr','to_addr'])\n",
        "      firstFileDF = firstFileDF.append(graph1)\n",
        "firstFileDF = firstFileDF.reset_index()"
      ],
      "execution_count": 4,
      "outputs": []
    },
    {
      "cell_type": "code",
      "metadata": {
        "id": "_wVKCzblCLot"
      },
      "source": [
        "DG = nx.from_pandas_edgelist(firstFileDF, 'from_addr', 'to_addr',create_using=nx.DiGraph())"
      ],
      "execution_count": 5,
      "outputs": []
    },
    {
      "cell_type": "code",
      "metadata": {
        "colab": {
          "base_uri": "https://localhost:8080/"
        },
        "id": "ZF7uPpOlKgu1",
        "outputId": "d8fd0137-74bb-4d7b-a92d-60bef188c77d"
      },
      "source": [
        "DG.is_directed()"
      ],
      "execution_count": 6,
      "outputs": [
        {
          "output_type": "execute_result",
          "data": {
            "text/plain": [
              "True"
            ]
          },
          "metadata": {},
          "execution_count": 6
        }
      ]
    },
    {
      "cell_type": "code",
      "metadata": {
        "id": "7kfwjH5xKo0W"
      },
      "source": [
        "dfsDG = nx.dfs_tree(DG)\n",
        "list(dfsDG)"
      ],
      "execution_count": null,
      "outputs": []
    },
    {
      "cell_type": "code",
      "metadata": {
        "id": "pD54DG8rQ-au"
      },
      "source": [
        "del DG"
      ],
      "execution_count": 8,
      "outputs": []
    },
    {
      "cell_type": "code",
      "metadata": {
        "id": "cDzMfp6HOAFv"
      },
      "source": [
        "topoDG = nx.topological_sort(dfsDG)\n",
        "list(topoDG)"
      ],
      "execution_count": null,
      "outputs": []
    },
    {
      "cell_type": "code",
      "metadata": {
        "id": "hx5VHAAgLbj1"
      },
      "source": [
        "longDFSpath = nx.dag_longest_path(dfsDG)"
      ],
      "execution_count": 10,
      "outputs": []
    },
    {
      "cell_type": "code",
      "metadata": {
        "colab": {
          "base_uri": "https://localhost:8080/"
        },
        "id": "pmiK6dZoM-qu",
        "outputId": "11a61ec6-84d3-4451-ecd3-7cdc10bc0a70"
      },
      "source": [
        "len(longDFSpath)"
      ],
      "execution_count": 11,
      "outputs": [
        {
          "output_type": "execute_result",
          "data": {
            "text/plain": [
              "17425"
            ]
          },
          "metadata": {},
          "execution_count": 11
        }
      ]
    },
    {
      "cell_type": "code",
      "metadata": {
        "id": "aqYeCharNKWE"
      },
      "source": [
        "longDG = nx.DiGraph(nx.dfs_edges(dfsDG, source=longDFSpath[0]))"
      ],
      "execution_count": 12,
      "outputs": []
    },
    {
      "cell_type": "code",
      "metadata": {
        "id": "20xt1WFtPeSC"
      },
      "source": [
        "longDG.edges()"
      ],
      "execution_count": 14,
      "outputs": []
    },
    {
      "cell_type": "code",
      "metadata": {
        "id": "X9seeNltPl-F"
      },
      "source": [
        ""
      ],
      "execution_count": null,
      "outputs": []
    }
  ]
}