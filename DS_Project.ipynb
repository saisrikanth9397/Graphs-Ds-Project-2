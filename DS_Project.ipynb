{
  "nbformat": 4,
  "nbformat_minor": 0,
  "metadata": {
    "colab": {
      "name": "DS Project.ipynb",
      "provenance": [],
      "collapsed_sections": []
    },
    "kernelspec": {
      "name": "python3",
      "display_name": "Python 3"
    },
    "language_info": {
      "name": "python"
    }
  },
  "cells": [
    {
      "cell_type": "code",
      "metadata": {
        "id": "aA6rwiMQ1jwO"
      },
      "source": [
        "import networkx as nx\n",
        "import numpy as np\n",
        "import matplotlib.pyplot as plt\n",
        "import pandas as pd"
      ],
      "execution_count": 13,
      "outputs": []
    },
    {
      "cell_type": "code",
      "metadata": {
        "colab": {
          "base_uri": "https://localhost:8080/"
        },
        "id": "RHmJ-4-71vdm",
        "outputId": "878f79b2-f43f-4605-8cab-fc8894f7beab"
      },
      "source": [
        "from google.colab import drive\n",
        "drive.mount('/content/drive')"
      ],
      "execution_count": 14,
      "outputs": [
        {
          "output_type": "stream",
          "name": "stdout",
          "text": [
            "Drive already mounted at /content/drive; to attempt to forcibly remount, call drive.mount(\"/content/drive\", force_remount=True).\n"
          ]
        }
      ]
    },
    {
      "cell_type": "code",
      "metadata": {
        "id": "ysO4s5csi7Xl"
      },
      "source": [
        "data = '/content/drive/MyDrive/Ds Data/tx_transfers_10-11-2020_etherum_tx_csv-000000000025.csv'"
      ],
      "execution_count": 15,
      "outputs": []
    },
    {
      "cell_type": "code",
      "metadata": {
        "id": "tkyWdLi_34pU"
      },
      "source": [
        "graph1 = pd.read_csv(data, usecols= ['from_addr','to_addr'])\n",
        "graph1"
      ],
      "execution_count": null,
      "outputs": []
    },
    {
      "cell_type": "code",
      "metadata": {
        "id": "z1Ea-uYdhKgw"
      },
      "source": [
        "df = pd.DataFrame(columns=['Nodes'])\n",
        "df['Nodes'] = graph1['from_addr']"
      ],
      "execution_count": null,
      "outputs": []
    },
    {
      "cell_type": "code",
      "metadata": {
        "id": "y_PbIUktlSh8"
      },
      "source": [
        "df1 = pd.DataFrame(columns=['Nodes'])\n",
        "df1['Nodes'] = graph1['to_addr']"
      ],
      "execution_count": null,
      "outputs": []
    },
    {
      "cell_type": "code",
      "metadata": {
        "id": "gBiToxfskz0Y"
      },
      "source": [
        "NodesDF = df.append(df1)\n",
        "NodesDF = NodesDF.reset_index()\n",
        "NodesDF = NodesDF.drop(columns = ['index'])\n",
        "NodesDF"
      ],
      "execution_count": null,
      "outputs": []
    },
    {
      "cell_type": "code",
      "metadata": {
        "id": "ZpHVYw_umQPP"
      },
      "source": [
        "NodesDF = NodesDF.drop_duplicates()\n",
        "NodesDF = NodesDF.reset_index()\n",
        "NodesDF = NodesDF.drop(columns = ['index'])\n",
        "NodesDF"
      ],
      "execution_count": null,
      "outputs": []
    },
    {
      "cell_type": "code",
      "metadata": {
        "id": "tut9U9uYojCG"
      },
      "source": [
        "NodesDF[\"Nodes\"] = NodesDF[\"Nodes\"].astype(\"string\")"
      ],
      "execution_count": null,
      "outputs": []
    },
    {
      "cell_type": "code",
      "metadata": {
        "colab": {
          "base_uri": "https://localhost:8080/"
        },
        "id": "T5DZPqu9oa4B",
        "outputId": "b77897da-cc88-4954-f958-3f1137c23ee4"
      },
      "source": [
        "list(NodesDF.index[NodesDF['Nodes']=='0x057eaa8d407a0a19d635399629b42c2a19c9a593'])[0]\n"
      ],
      "execution_count": null,
      "outputs": [
        {
          "output_type": "execute_result",
          "data": {
            "text/plain": [
              "776738"
            ]
          },
          "metadata": {},
          "execution_count": 185
        }
      ]
    },
    {
      "cell_type": "code",
      "metadata": {
        "id": "B4w7smQZq4Us"
      },
      "source": [
        "del graph1, df, df1"
      ],
      "execution_count": null,
      "outputs": []
    },
    {
      "cell_type": "code",
      "metadata": {
        "id": "lcacBslvBWvD"
      },
      "source": [
        "DG = nx.DiGraph()\n",
        "nodesList =[]\n",
        "with open(data) as f:        \n",
        "  next(f)                                           \n",
        "  for line in f:                   \n",
        "    lis = line.split(',')                           \n",
        "    from_addr = lis[1]                     \n",
        "    to_addr = lis[2]\n",
        "    DG.add_edge(from_addr,to_addr)"
      ],
      "execution_count": 16,
      "outputs": []
    },
    {
      "cell_type": "code",
      "metadata": {
        "id": "0UlNy1JW4bay"
      },
      "source": [
        ""
      ],
      "execution_count": null,
      "outputs": []
    },
    {
      "cell_type": "code",
      "metadata": {
        "id": "BSr_p4Be1yA8"
      },
      "source": [
        "count =0\n",
        "DG = nx.DiGraph()\n",
        "nodesList =[]\n",
        "with open(data) as f:        \n",
        "  next(f)                                           \n",
        "  for line in f:   \n",
        "    if count < 50:\n",
        "      count +=1                       \n",
        "      lis = line.split(',')                           \n",
        "      from_addr = lis[1]                     \n",
        "      to_addr = lis[2]\n",
        "      gas_fees = int(lis[8])\n",
        "      if from_addr not in nodesList:\n",
        "        nodesList.append(from_addr)\n",
        "      if to_addr not in nodesList:\n",
        "        nodesList.append(to_addr)\n",
        "      DG.add_edge(nodesList.index(from_addr), nodesList.index(to_addr), weight = gas_fees)"
      ],
      "execution_count": 18,
      "outputs": []
    },
    {
      "cell_type": "code",
      "metadata": {
        "colab": {
          "base_uri": "https://localhost:8080/"
        },
        "id": "nOcPlGihzST6",
        "outputId": "746267f8-ffb0-43b9-9870-ff813ec99daa"
      },
      "source": [
        "dfsTree = nx.dfs_tree(DG)\n",
        "dfsTree.edges()"
      ],
      "execution_count": 19,
      "outputs": [
        {
          "output_type": "execute_result",
          "data": {
            "text/plain": [
              "OutEdgeView([(0, 1), (2, 3), (3, 16), (3, 19), (3, 63), (3, 74), (3, 80), (3, 86), (4, 5), (6, 7), (8, 9), (10, 11), (12, 13), (14, 15), (14, 62), (15, 75), (17, 18), (20, 21), (22, 23), (23, 36), (24, 25), (26, 27), (28, 29), (30, 31), (32, 33), (34, 35), (37, 38), (39, 40), (41, 42), (43, 44), (45, 46), (47, 48), (49, 50), (51, 52), (51, 53), (54, 55), (56, 57), (58, 59), (60, 61), (64, 65), (66, 67), (68, 69), (70, 71), (72, 73), (76, 77), (78, 79), (81, 82), (84, 85), (87, 88)])"
            ]
          },
          "metadata": {},
          "execution_count": 19
        }
      ]
    },
    {
      "cell_type": "code",
      "metadata": {
        "id": "PhpS4lgEZy-P"
      },
      "source": [
        "dfsTree.edges()"
      ],
      "execution_count": 10,
      "outputs": []
    },
    {
      "cell_type": "code",
      "metadata": {
        "id": "birw-OtXwaYy"
      },
      "source": [
        "nx.dag_longest_path(DG)"
      ],
      "execution_count": null,
      "outputs": []
    },
    {
      "cell_type": "code",
      "metadata": {
        "id": "WCAV4Y5qwZYC"
      },
      "source": [
        ""
      ],
      "execution_count": null,
      "outputs": []
    },
    {
      "cell_type": "code",
      "metadata": {
        "id": "IZWvni7iUqLO"
      },
      "source": [
        "import pylab\n",
        "import networkx as nx\n",
        "pos=nx.circular_layout(DG)\n",
        "pylab.figure(4,figsize=(13,13))\n",
        "nx.draw(DG,pos, with_labels=True)\n",
        "pylab.show()"
      ],
      "execution_count": null,
      "outputs": []
    },
    {
      "cell_type": "code",
      "metadata": {
        "colab": {
          "base_uri": "https://localhost:8080/",
          "height": 319
        },
        "id": "_ywAt59e5Cli",
        "outputId": "0e123dda-45f2-450f-cfd2-9d2fbf26648e"
      },
      "source": [
        "nx.draw(DG, with_labels= True)"
      ],
      "execution_count": null,
      "outputs": [
        {
          "output_type": "display_data",
          "data": {
            "image/png": "[encoded data removed]",
            "text/plain": [
              "<Figure size 432x288 with 1 Axes>"
            ]
          },
          "metadata": {}
        }
      ]
    },
    {
      "cell_type": "code",
      "metadata": {
        "colab": {
          "base_uri": "https://localhost:8080/"
        },
        "id": "pZQ8A9Hl-5AX",
        "outputId": "55af935e-702d-48cc-aab1-9f69ea3c77b0"
      },
      "source": [
        "list(nx.dfs_edges(DG, source=22))"
      ],
      "execution_count": null,
      "outputs": [
        {
          "output_type": "execute_result",
          "data": {
            "text/plain": [
              "[(22, 23), (23, 36)]"
            ]
          },
          "metadata": {},
          "execution_count": 53
        }
      ]
    },
    {
      "cell_type": "code",
      "metadata": {
        "colab": {
          "base_uri": "https://localhost:8080/",
          "height": 423
        },
        "id": "MgC1OmpaswIP",
        "outputId": "01a20b6a-e507-416f-9e2d-6248560b900a"
      },
      "source": [
        "NodesDF"
      ],
      "execution_count": null,
      "outputs": [
        {
          "output_type": "execute_result",
          "data": {
            "text/html": [
              "<div>\n",
              "<style scoped>\n",
              "    .dataframe tbody tr th:only-of-type {\n",
              "        vertical-align: middle;\n",
              "    }\n",
              "\n",
              "    .dataframe tbody tr th {\n",
              "        vertical-align: top;\n",
              "    }\n",
              "\n",
              "    .dataframe thead th {\n",
              "        text-align: right;\n",
              "    }\n",
              "</style>\n",
              "<table border=\"1\" class=\"dataframe\">\n",
              "  <thead>\n",
              "    <tr style=\"text-align: right;\">\n",
              "      <th></th>\n",
              "      <th>Nodes</th>\n",
              "    </tr>\n",
              "  </thead>\n",
              "  <tbody>\n",
              "    <tr>\n",
              "      <th>0</th>\n",
              "      <td>0x47ddfddff875851ba18526cb30e0d35868c8c79a</td>\n",
              "    </tr>\n",
              "    <tr>\n",
              "      <th>1</th>\n",
              "      <td>0x0c4a68cf6857cc76fe946d04fe85fac5fae9625e</td>\n",
              "    </tr>\n",
              "    <tr>\n",
              "      <th>2</th>\n",
              "      <td>0xac6cfbfb9ee02e270f695c6dee900db112bc0d6b</td>\n",
              "    </tr>\n",
              "    <tr>\n",
              "      <th>3</th>\n",
              "      <td>0x4b85c3f0e56ba18714a966c4f56e08c413070904</td>\n",
              "    </tr>\n",
              "    <tr>\n",
              "      <th>4</th>\n",
              "      <td>0xab5c66752a9e8167967685f1450532fb96d5d24f</td>\n",
              "    </tr>\n",
              "    <tr>\n",
              "      <th>...</th>\n",
              "      <td>...</td>\n",
              "    </tr>\n",
              "    <tr>\n",
              "      <th>776736</th>\n",
              "      <td>0xfe62cf9b3a1b4cd309a67f93de394db6660c2f5f</td>\n",
              "    </tr>\n",
              "    <tr>\n",
              "      <th>776737</th>\n",
              "      <td>0xab15994b1a977d9f26d062586d2c26a270a3c698</td>\n",
              "    </tr>\n",
              "    <tr>\n",
              "      <th>776738</th>\n",
              "      <td>0x057eaa8d407a0a19d635399629b42c2a19c9a593</td>\n",
              "    </tr>\n",
              "    <tr>\n",
              "      <th>776739</th>\n",
              "      <td>0x81618ea925764727d04e2446a4e301a6689d11f9</td>\n",
              "    </tr>\n",
              "    <tr>\n",
              "      <th>776740</th>\n",
              "      <td>0xd5f035af80d5e76d4aedc2c5373b3e83c4990387</td>\n",
              "    </tr>\n",
              "  </tbody>\n",
              "</table>\n",
              "<p>776741 rows × 1 columns</p>\n",
              "</div>"
            ],
            "text/plain": [
              "                                             Nodes\n",
              "0       0x47ddfddff875851ba18526cb30e0d35868c8c79a\n",
              "1       0x0c4a68cf6857cc76fe946d04fe85fac5fae9625e\n",
              "2       0xac6cfbfb9ee02e270f695c6dee900db112bc0d6b\n",
              "3       0x4b85c3f0e56ba18714a966c4f56e08c413070904\n",
              "4       0xab5c66752a9e8167967685f1450532fb96d5d24f\n",
              "...                                            ...\n",
              "776736  0xfe62cf9b3a1b4cd309a67f93de394db6660c2f5f\n",
              "776737  0xab15994b1a977d9f26d062586d2c26a270a3c698\n",
              "776738  0x057eaa8d407a0a19d635399629b42c2a19c9a593\n",
              "776739  0x81618ea925764727d04e2446a4e301a6689d11f9\n",
              "776740  0xd5f035af80d5e76d4aedc2c5373b3e83c4990387\n",
              "\n",
              "[776741 rows x 1 columns]"
            ]
          },
          "metadata": {},
          "execution_count": 189
        }
      ]
    },
    {
      "cell_type": "code",
      "metadata": {
        "id": "IWnRZfZ1uyQ_"
      },
      "source": [
        "for index, row in nodesDF.iterrows():\n",
        "    print(row['c1'])"
      ],
      "execution_count": null,
      "outputs": []
    },
    {
      "cell_type": "code",
      "metadata": {
        "id": "nCLecbF6vDcK"
      },
      "source": [
        "maxdfsEdges = []\n",
        "count =0\n",
        "maxDfsEdgesLen = -np.inf\n",
        "with open(data) as f:        \n",
        "  next(f)                                           \n",
        "  for line in f:  \n",
        "    from_addr = lis[1]\n",
        "    count +=1\n",
        "    print(count)\n",
        "    dfsEdges = list(nx.dfs_edges(DG, source=from_addr))\n",
        "    DfsEdgesLen = len(dfsEdges)\n",
        "    if DfsEdgesLen > maxDfsEdgesLen:\n",
        "      maxDfsEdgesLen = DfsEdgesLen\n",
        "      maxdfsEdges = dfsEdges\n",
        "print(maxdfsEdges)"
      ],
      "execution_count": null,
      "outputs": []
    },
    {
      "cell_type": "code",
      "metadata": {
        "colab": {
          "base_uri": "https://localhost:8080/"
        },
        "id": "NXU6Btg33-De",
        "outputId": "d750a5f5-0013-478d-9114-f7c62428215e"
      },
      "source": [
        "maxdfsEdges = []\n",
        "maxDfsEdgesLen = -np.inf\n",
        "for i in range(len(nodesList)):\n",
        "  \n",
        "  dfsEdges = list(nx.dfs_edges(DG, source=i))\n",
        "  DfsEdgesLen = len(dfsEdges)\n",
        "  #print(DfsEdgesLen)\n",
        "  if DfsEdgesLen > maxDfsEdgesLen:\n",
        "     maxDfsEdgesLen = DfsEdgesLen\n",
        "     #print(maxDfsEdgesLen)\n",
        "     maxdfsEdges = dfsEdges\n",
        "print(maxdfsEdges)"
      ],
      "execution_count": null,
      "outputs": [
        {
          "output_type": "stream",
          "name": "stdout",
          "text": [
            "[(2, 3), (3, 16), (3, 19), (3, 63), (3, 74), (3, 80), (3, 86)]\n"
          ]
        }
      ]
    },
    {
      "cell_type": "code",
      "metadata": {
        "colab": {
          "base_uri": "https://localhost:8080/",
          "height": 319
        },
        "id": "aKpGMaDd4fvC",
        "outputId": "cd4df8c5-8bbb-4428-a9d6-9cf9d1d37b27"
      },
      "source": [
        "G = nx.path_graph(5)\n",
        "nx.draw(G,with_labels=True)"
      ],
      "execution_count": null,
      "outputs": [
        {
          "output_type": "display_data",
          "data": {
            "image/png": "[encoded data removed]",
            "text/plain": [
              "<Figure size 432x288 with 1 Axes>"
            ]
          },
          "metadata": {}
        }
      ]
    },
    {
      "cell_type": "code",
      "metadata": {
        "colab": {
          "base_uri": "https://localhost:8080/"
        },
        "id": "aozRJsjb4bl_",
        "outputId": "64c7a6c6-c88c-458c-8022-f10f8a60e607"
      },
      "source": [
        "T = nx.dfs_tree(G, source=0, depth_limit=2)\n",
        "list(T.edges())\n",
        "T = nx.dfs_tree(G, source=0)\n",
        "list(T.edges())"
      ],
      "execution_count": null,
      "outputs": [
        {
          "output_type": "execute_result",
          "data": {
            "text/plain": [
              "[(0, 1), (1, 2), (2, 3), (3, 4)]"
            ]
          },
          "metadata": {},
          "execution_count": 14
        }
      ]
    },
    {
      "cell_type": "code",
      "metadata": {
        "id": "cc9jTY1jTwnJ"
      },
      "source": [
        "len(list(nx.simple_cycles(DG)))"
      ],
      "execution_count": null,
      "outputs": []
    },
    {
      "cell_type": "code",
      "metadata": {
        "id": "oLtgX9BCyZ6A"
      },
      "source": [
        "import pandas as pd"
      ],
      "execution_count": null,
      "outputs": []
    },
    {
      "cell_type": "code",
      "metadata": {
        "id": "0Q338Y_QkFQw"
      },
      "source": [
        "with open(data) as f:        \n",
        "  next(f)  \n",
        "  for line in f:                          \n",
        "    lis = line.split(',')                           \n",
        "    from_addr = lis[1]                     \n",
        "    to_addr = lis[2]\n",
        "    print(nx.dijkstra_path(DG, from_addr, to_addr))"
      ],
      "execution_count": null,
      "outputs": []
    },
    {
      "cell_type": "code",
      "metadata": {
        "colab": {
          "base_uri": "https://localhost:8080/",
          "height": 310
        },
        "id": "pwF1aUimF-kI",
        "outputId": "7c50e770-1e7f-47e4-f805-f8e93b4f244f"
      },
      "source": [
        "list(nx.topological_sort(DG))"
      ],
      "execution_count": null,
      "outputs": [
        {
          "output_type": "error",
          "ename": "NetworkXUnfeasible",
          "evalue": "ignored",
          "traceback": [
            "\u001b[0;31m---------------------------------------------------------------------------\u001b[0m",
            "\u001b[0;31mNetworkXUnfeasible\u001b[0m                        Traceback (most recent call last)",
            "\u001b[0;32m<ipython-input-13-8a86e68689d1>\u001b[0m in \u001b[0;36m<module>\u001b[0;34m()\u001b[0m\n\u001b[0;32m----> 1\u001b[0;31m \u001b[0mlist\u001b[0m\u001b[0;34m(\u001b[0m\u001b[0mnx\u001b[0m\u001b[0;34m.\u001b[0m\u001b[0mtopological_sort\u001b[0m\u001b[0;34m(\u001b[0m\u001b[0mDG\u001b[0m\u001b[0;34m)\u001b[0m\u001b[0;34m)\u001b[0m\u001b[0;34m\u001b[0m\u001b[0;34m\u001b[0m\u001b[0m\n\u001b[0m",
            "\u001b[0;32m/usr/local/lib/python3.7/dist-packages/networkx/algorithms/dag.py\u001b[0m in \u001b[0;36mtopological_sort\u001b[0;34m(G)\u001b[0m\n\u001b[1;32m    244\u001b[0m        \u001b[0;34m*\u001b[0m\u001b[0mIntroduction\u001b[0m \u001b[0mto\u001b[0m \u001b[0mAlgorithms\u001b[0m \u001b[0;34m-\u001b[0m \u001b[0mA\u001b[0m \u001b[0mCreative\u001b[0m \u001b[0mApproach\u001b[0m\u001b[0;34m.\u001b[0m\u001b[0;34m*\u001b[0m \u001b[0mAddison\u001b[0m\u001b[0;34m-\u001b[0m\u001b[0mWesley\u001b[0m\u001b[0;34m.\u001b[0m\u001b[0;34m\u001b[0m\u001b[0;34m\u001b[0m\u001b[0m\n\u001b[1;32m    245\u001b[0m     \"\"\"\n\u001b[0;32m--> 246\u001b[0;31m     \u001b[0;32mfor\u001b[0m \u001b[0mgeneration\u001b[0m \u001b[0;32min\u001b[0m \u001b[0mnx\u001b[0m\u001b[0;34m.\u001b[0m\u001b[0mtopological_generations\u001b[0m\u001b[0;34m(\u001b[0m\u001b[0mG\u001b[0m\u001b[0;34m)\u001b[0m\u001b[0;34m:\u001b[0m\u001b[0;34m\u001b[0m\u001b[0;34m\u001b[0m\u001b[0m\n\u001b[0m\u001b[1;32m    247\u001b[0m         \u001b[0;32myield\u001b[0m \u001b[0;32mfrom\u001b[0m \u001b[0mgeneration\u001b[0m\u001b[0;34m\u001b[0m\u001b[0;34m\u001b[0m\u001b[0m\n\u001b[1;32m    248\u001b[0m \u001b[0;34m\u001b[0m\u001b[0m\n",
            "\u001b[0;32m/usr/local/lib/python3.7/dist-packages/networkx/algorithms/dag.py\u001b[0m in \u001b[0;36mtopological_generations\u001b[0;34m(G)\u001b[0m\n\u001b[1;32m    176\u001b[0m     \u001b[0;32mif\u001b[0m \u001b[0mindegree_map\u001b[0m\u001b[0;34m:\u001b[0m\u001b[0;34m\u001b[0m\u001b[0;34m\u001b[0m\u001b[0m\n\u001b[1;32m    177\u001b[0m         raise nx.NetworkXUnfeasible(\n\u001b[0;32m--> 178\u001b[0;31m             \u001b[0;34m\"Graph contains a cycle or graph changed during iteration\"\u001b[0m\u001b[0;34m\u001b[0m\u001b[0;34m\u001b[0m\u001b[0m\n\u001b[0m\u001b[1;32m    179\u001b[0m         )\n\u001b[1;32m    180\u001b[0m \u001b[0;34m\u001b[0m\u001b[0m\n",
            "\u001b[0;31mNetworkXUnfeasible\u001b[0m: Graph contains a cycle or graph changed during iteration"
          ]
        }
      ]
    },
    {
      "cell_type": "code",
      "metadata": {
        "id": "lua1AUFI4sEg"
      },
      "source": [
        "nx.draw(DG)"
      ],
      "execution_count": null,
      "outputs": []
    },
    {
      "cell_type": "code",
      "metadata": {
        "colab": {
          "base_uri": "https://localhost:8080/",
          "height": 319
        },
        "id": "B8XqPNrE5k5E",
        "outputId": "9c982c91-b514-42ac-e861-48778b71c80b"
      },
      "source": [
        "G = nx.complete_graph(6)\n",
        " \n",
        "# illustrate graph\n",
        "nx.draw(G)"
      ],
      "execution_count": null,
      "outputs": [
        {
          "output_type": "display_data",
          "data": {
            "image/png": "[encoded data removed]",
            "text/plain": [
              "<Figure size 432x288 with 1 Axes>"
            ]
          },
          "metadata": {}
        }
      ]
    },
    {
      "cell_type": "code",
      "metadata": {
        "id": "NnV1TzQFBdcc",
        "colab": {
          "base_uri": "https://localhost:8080/"
        },
        "outputId": "ebe797fd-0ed1-46e9-cc13-bbb17d24f920"
      },
      "source": [
        "# Python program to print topological sorting of a DAG\n",
        "from collections import defaultdict\n",
        "\n",
        "# Class to represent a graph\n",
        "\n",
        "\n",
        "class Graph:\n",
        "\tdef __init__(self, vertices):\n",
        "\t\tself.graph = defaultdict(list) # dictionary containing adjacency List\n",
        "\t\tself.V = vertices # No. of vertices\n",
        "\n",
        "\t# function to add an edge to graph\n",
        "\tdef addEdge(self, u, v):\n",
        "\t\tself.graph[u].append(v)\n",
        "\n",
        "\t# A recursive function used by topologicalSort\n",
        "\tdef topologicalSortUtil(self, v, visited, stack):\n",
        "\n",
        "\t\t# Mark the current node as visited.\n",
        "\t\tvisited[v] = True\n",
        "\n",
        "\t\t# Recur for all the vertices adjacent to this vertex\n",
        "\t\tfor i in self.graph[v]:\n",
        "\t\t\tif visited[i] == False:\n",
        "\t\t\t\tself.topologicalSortUtil(i, visited, stack)\n",
        "\n",
        "\t\t# Push current vertex to stack which stores result\n",
        "\t\tstack.append(v)\n",
        "\n",
        "\t# The function to do Topological Sort. It uses recursive\n",
        "\t# topologicalSortUtil()\n",
        "\tdef topologicalSort(self):\n",
        "\t\t# Mark all the vertices as not visited\n",
        "\t\tvisited = [False]*self.V\n",
        "\t\tstack = []\n",
        "\n",
        "\t\t# Call the recursive helper function to store Topological\n",
        "\t\t# Sort starting from all vertices one by one\n",
        "\t\tfor i in range(self.V):\n",
        "\t\t\tif visited[i] == False:\n",
        "\t\t\t\tself.topologicalSortUtil(i, visited, stack)\n",
        "\n",
        "\t\t# Print contents of the stack\n",
        "\t\tprint(stack[::-1]) # return list in reverse order\n",
        "\n",
        "\n",
        "# Driver Code\n",
        "g = Graph(6)\n",
        "g.addEdge(5, 2)\n",
        "g.addEdge(5, 0)\n",
        "g.addEdge(4, 0)\n",
        "g.addEdge(4, 1)\n",
        "g.addEdge(2, 3)\n",
        "g.addEdge(3, 5)\n",
        "\n",
        "print (\"Following is a Topological Sort of the given graph\")\n",
        "\n",
        "# Function Call\n",
        "g.topologicalSort()\n",
        "\n",
        "# This code is contributed by Neelam Yadav\n"
      ],
      "execution_count": null,
      "outputs": [
        {
          "output_type": "stream",
          "name": "stdout",
          "text": [
            "Following is a Topological Sort of the given graph\n",
            "[4, 2, 3, 5, 1, 0]\n"
          ]
        }
      ]
    },
    {
      "cell_type": "code",
      "metadata": {
        "id": "eV2BWyPoOSBg"
      },
      "source": [
        ""
      ],
      "execution_count": null,
      "outputs": []
    }
  ]
}