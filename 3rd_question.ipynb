{
  "nbformat": 4,
  "nbformat_minor": 0,
  "metadata": {
    "colab": {
      "name": "3rd question.ipynb",
      "provenance": [],
      "collapsed_sections": []
    },
    "kernelspec": {
      "name": "python3",
      "display_name": "Python 3"
    },
    "language_info": {
      "name": "python"
    }
  },
  "cells": [
    {
      "cell_type": "code",
      "metadata": {
        "id": "EDoWqjoPWfxB"
      },
      "source": [
        "from queue import PriorityQueue"
      ],
      "execution_count": 5,
      "outputs": []
    },
    {
      "cell_type": "code",
      "metadata": {
        "id": "mzMzYbnfYU9G"
      },
      "source": [
        "class Graph:\n",
        "\n",
        "    def __init__(self, num_of_vertices):\n",
        "        self.v = num_of_vertices\n",
        "        self.edges = [[-1 for i in range(num_of_vertices)] for j in range(num_of_vertices)]\n",
        "        self.visited = []\n",
        "    def add_edge(self, u, v, weight):\n",
        "        self.edges[u][v] = weight\n",
        "        self.edges[v][u] = weight\n",
        "    def dijkstra(self, start_vertex):\n",
        "        D = {v:float('inf') for v in range(self.v)}\n",
        "        D[start_vertex] = 0\n",
        "\n",
        "        pq = PriorityQueue()\n",
        "        pq.put((0, start_vertex))\n",
        "\n",
        "        while not pq.empty():\n",
        "            (dist, current_vertex) = pq.get()\n",
        "            self.visited.append(current_vertex)\n",
        "\n",
        "            for neighbor in range(self.v):\n",
        "                if self.edges[current_vertex][neighbor] != -1:\n",
        "                    distance = self.edges[current_vertex][neighbor]\n",
        "                    if neighbor not in self.visited:\n",
        "                        old_cost = D[neighbor]\n",
        "                        new_cost = D[current_vertex] + distance\n",
        "                        if new_cost < old_cost:\n",
        "                            pq.put((new_cost, neighbor))\n",
        "                            D[neighbor] = new_cost\n",
        "        return D"
      ],
      "execution_count": 7,
      "outputs": []
    },
    {
      "cell_type": "code",
      "metadata": {
        "id": "0dP7uE-2YZ4t"
      },
      "source": [
        ""
      ],
      "execution_count": 5,
      "outputs": []
    },
    {
      "cell_type": "code",
      "metadata": {
        "id": "bVL89NruYexe"
      },
      "source": [
        ""
      ],
      "execution_count": 10,
      "outputs": []
    },
    {
      "cell_type": "code",
      "metadata": {
        "id": "S-otZKfKYo65"
      },
      "source": [
        "g = Graph(9)\n",
        "g.add_edge(0, 1, 4)\n",
        "g.add_edge(0, 6, 7)\n",
        "g.add_edge(1, 6, 11)\n",
        "g.add_edge(1, 7, 20)\n",
        "g.add_edge(1, 2, 9)\n",
        "g.add_edge(2, 3, 6)\n",
        "g.add_edge(2, 4, 2)\n",
        "g.add_edge(3, 4, 10)\n",
        "g.add_edge(3, 5, 5)\n",
        "g.add_edge(4, 5, 15)\n",
        "g.add_edge(4, 7, 1)\n",
        "g.add_edge(4, 8, 5)\n",
        "g.add_edge(5, 8, 12)\n",
        "g.add_edge(6, 7, 1)\n",
        "g.add_edge(7, 8, 3) "
      ],
      "execution_count": 8,
      "outputs": []
    },
    {
      "cell_type": "code",
      "metadata": {
        "colab": {
          "base_uri": "https://localhost:8080/"
        },
        "id": "qJMmvIs3Y1OG",
        "outputId": "4e561e21-3b53-44ce-f114-eff346249fbf"
      },
      "source": [
        "D = g.dijkstra(0)\n",
        "\n",
        "for vertex in range(len(D)):\n",
        "    print(\"Distance from vertex 0 to vertex\", vertex, \"is\", D[vertex])"
      ],
      "execution_count": 9,
      "outputs": [
        {
          "output_type": "stream",
          "name": "stdout",
          "text": [
            "Distance from vertex 0 to vertex 0 is 0\n",
            "Distance from vertex 0 to vertex 1 is 4\n",
            "Distance from vertex 0 to vertex 2 is 11\n",
            "Distance from vertex 0 to vertex 3 is 17\n",
            "Distance from vertex 0 to vertex 4 is 9\n",
            "Distance from vertex 0 to vertex 5 is 22\n",
            "Distance from vertex 0 to vertex 6 is 7\n",
            "Distance from vertex 0 to vertex 7 is 8\n",
            "Distance from vertex 0 to vertex 8 is 11\n"
          ]
        }
      ]
    },
    {
      "cell_type": "code",
      "metadata": {
        "id": "MDguLX-9pSxP"
      },
      "source": [
        "g = nx.DiGraph()                \n",
        "g.add_edge(0, 1,weight = 4)\n",
        "g.add_edge(0, 6, weight =7)\n",
        "g.add_edge(1, 6, weight =11)\n",
        "g.add_edge(1, 7, weight =20)\n",
        "g.add_edge(1, 2, weight =9)\n",
        "g.add_edge(2, 3, weight =6)\n",
        "g.add_edge(2, 4, weight =2)\n",
        "g.add_edge(3, 4, weight =10)\n",
        "g.add_edge(3, 5, weight =5)\n",
        "g.add_edge(4, 5, weight =15)\n",
        "g.add_edge(4, 7, weight =1)\n",
        "g.add_edge(4, 8, weight =5)\n",
        "g.add_edge(5, 8, weight =12)\n",
        "g.add_edge(6, 7, weight =1)\n",
        "g.add_edge(7, 8, weight =3) "
      ],
      "execution_count": 13,
      "outputs": []
    },
    {
      "cell_type": "code",
      "metadata": {
        "colab": {
          "base_uri": "https://localhost:8080/"
        },
        "id": "7UGb-3oSh1bR",
        "outputId": "59fe40e9-28b5-42e1-a58c-0b5c0bee5502"
      },
      "source": [
        "\n",
        "\n",
        "nx.single_source_dijkstra(g, 0)"
      ],
      "execution_count": 14,
      "outputs": [
        {
          "output_type": "execute_result",
          "data": {
            "text/plain": [
              "({0: 0, 1: 4, 2: 13, 3: 19, 4: 15, 5: 24, 6: 7, 7: 8, 8: 11},\n",
              " {0: [0],\n",
              "  1: [0, 1],\n",
              "  2: [0, 1, 2],\n",
              "  3: [0, 1, 2, 3],\n",
              "  4: [0, 1, 2, 4],\n",
              "  5: [0, 1, 2, 3, 5],\n",
              "  6: [0, 6],\n",
              "  7: [0, 6, 7],\n",
              "  8: [0, 6, 7, 8]})"
            ]
          },
          "metadata": {},
          "execution_count": 14
        }
      ]
    },
    {
      "cell_type": "code",
      "metadata": {
        "colab": {
          "base_uri": "https://localhost:8080/"
        },
        "id": "qHSSrRFdilL9",
        "outputId": "5d298c24-6935-4970-dbd4-5a79032953b2"
      },
      "source": [
        "from google.colab import drive\n",
        "drive.mount('/content/drive')"
      ],
      "execution_count": 16,
      "outputs": [
        {
          "output_type": "stream",
          "name": "stdout",
          "text": [
            "Mounted at /content/drive\n"
          ]
        }
      ]
    },
    {
      "cell_type": "code",
      "metadata": {
        "id": "BUkmBmMOkq9r"
      },
      "source": [
        "import pandas as pd\n",
        "import os\n",
        "import networkx as nx"
      ],
      "execution_count": 3,
      "outputs": []
    },
    {
      "cell_type": "code",
      "metadata": {
        "id": "6PcOmsO8kzAi"
      },
      "source": [
        "data = '/content/drive/MyDrive/Ds Data'\n",
        "firstFile = '/content/drive/MyDrive/Ds Data/tx_transfers_10-11-2020_etherum_tx_csv-000000000025.csv'"
      ],
      "execution_count": 23,
      "outputs": []
    },
    {
      "cell_type": "code",
      "metadata": {
        "id": "8utAXLHBkonM"
      },
      "source": [
        "firstFileDF = pd.read_csv(firstFile, usecols= ['from_addr','to_addr','tx_hash','gas_price'])\n",
        "for file in os.listdir(data):\n",
        "  with open(os.path.join(data, file)) as f:\n",
        "    #print(f.name)\n",
        "    if f.name != firstFile:\n",
        "      #print('sfs')\n",
        "      graph1 = pd.read_csv(f, usecols= ['from_addr','to_addr','tx_hash','gas_price'])\n",
        "      firstFileDF = firstFileDF.append(graph1)\n",
        "firstFileDF = firstFileDF.reset_index()"
      ],
      "execution_count": 24,
      "outputs": []
    },
    {
      "cell_type": "code",
      "metadata": {
        "colab": {
          "base_uri": "https://localhost:8080/"
        },
        "id": "70XMNs8PlBnJ",
        "outputId": "f082cf2d-4e87-482b-92a2-45fe3a675869"
      },
      "source": [
        "firstFileDF.shape[0]"
      ],
      "execution_count": 27,
      "outputs": [
        {
          "output_type": "execute_result",
          "data": {
            "text/plain": [
              "3482680"
            ]
          },
          "metadata": {},
          "execution_count": 27
        }
      ]
    },
    {
      "cell_type": "code",
      "metadata": {
        "colab": {
          "base_uri": "https://localhost:8080/"
        },
        "id": "QNB-FHL9lvWl",
        "outputId": "59dec9cc-d98f-41ad-da30-0453e3b3ebee"
      },
      "source": [
        "df = pd.DataFrame(columns=['Nodes'])\n",
        "df['Nodes'] = graph1['from_addr']\n",
        "df1 = pd.DataFrame(columns=['Nodes'])\n",
        "df1['Nodes'] = graph1['to_addr']\n",
        "NodesDF = df.append(df1)\n",
        "NodesDF = NodesDF.reset_index()\n",
        "NodesDF = NodesDF.drop(columns = ['index'])\n",
        "NodesDF = NodesDF.drop_duplicates()\n",
        "NodesDF = NodesDF.reset_index()\n",
        "NodesDF = NodesDF.drop(columns = ['index'])\n",
        "NodesDF.shape[0]"
      ],
      "execution_count": 29,
      "outputs": [
        {
          "output_type": "execute_result",
          "data": {
            "text/plain": [
              "776072"
            ]
          },
          "metadata": {},
          "execution_count": 29
        }
      ]
    },
    {
      "cell_type": "code",
      "metadata": {
        "id": "HfIlzt4wlvZL"
      },
      "source": [
        ""
      ],
      "execution_count": null,
      "outputs": []
    },
    {
      "cell_type": "code",
      "metadata": {
        "id": "ZFqMcterlvc3"
      },
      "source": [
        ""
      ],
      "execution_count": null,
      "outputs": []
    },
    {
      "cell_type": "code",
      "metadata": {
        "id": "2SF4egpJimXH"
      },
      "source": [
        "g = Graph(NodesDF.shape[0])\n",
        "for file in os.listdir(data):\n",
        "  with open(os.path.join(data, file)) as f:\n",
        "    next(f)                                           \n",
        "    for line in f:\n",
        "      lis = line.split(',')                           \n",
        "      from_addr = lis[1]                     \n",
        "      to_addr = lis[2]\n",
        "      gas_fees = int(lis[8])\n",
        "      g.add_edge(nodesList.index(from_addr), nodesList.index(to_addr), gas_fees)"
      ],
      "execution_count": null,
      "outputs": []
    },
    {
      "cell_type": "code",
      "metadata": {
        "id": "SSa2wB5rmAYk"
      },
      "source": [
        ""
      ],
      "execution_count": null,
      "outputs": []
    }
  ]
}